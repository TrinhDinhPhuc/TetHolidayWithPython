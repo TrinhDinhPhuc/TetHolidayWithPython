{
 "cells": [
  {
   "cell_type": "markdown",
   "metadata": {},
   "source": [
    "<br><br><center><h1 style=\"font-size:2em;color:#2467C0\">INTERQUARTILE RANGE / KHOẢNG CÁCH GIỮA CÁC TỨ VỊ PHÂN VỊ</h1></center>\n",
    "<br>\n",
    "<td><img src=\"How_to_find_IQR_Boxplot_Image.jpg\" align=\"middle\" style=\"width:500px;height:180;\"/></td>\n",
    "<td>"
   ]
  },
  {
   "cell_type": "markdown",
   "metadata": {},
   "source": [
    "### INTERQUARTILE RANGE / KHOẢNG CÁCH GIỮA CÁC TỨ VỊ PHÂN VỊ\n",
    "\n",
    "Là một thước đo sự phân tán của số liệu mẫu hoặc phân phối, thuật ngữ này được định nghĩa như sự chênh lệch giữa giá trị cao nhất và thấp nhất của các tứ phân vị, và vì vậy nó chứa 50% giá trị trung tâm các quan sát của các biến số liên quan.\n",
    "\n",
    "<center> <td><img src=\"DN.PNG\" align=\"middle\" style=\"width:600px;height:300;\"/></td> </center>\n"
   ]
  },
  {
   "cell_type": "markdown",
   "metadata": {},
   "source": [
    "## Quartiles (tứ phân vị)\n",
    "\n",
    "\n",
    "<center> <td><img src=\"IQR1.PNG\" align=\"middle\" style=\"width:800px;height:380;\"/></td> </center>\n"
   ]
  },
  {
   "cell_type": "markdown",
   "metadata": {},
   "source": [
    "##  Khoảng tứ phân vị (Interquartile Range - IQR)\n",
    "\n",
    "\n",
    "\n",
    "\n",
    "<center> <td><img src=\"IQR2.PNG\" align=\"middle\" style=\"width:800px;height:380;\"/></td> </center>\n"
   ]
  },
  {
   "cell_type": "markdown",
   "metadata": {},
   "source": [
    "##  Khoảng tứ phân vị (Interquartile Range - IQR)\n",
    "\n",
    "\n",
    "\n",
    "\n",
    "<center> <td><img src=\"BoxPlot.PNG\" align=\"middle\" style=\"width:800px;height:380;\"/></td> </center>\n"
   ]
  },
  {
   "cell_type": "markdown",
   "metadata": {},
   "source": [
    "\n",
    "##  What if I Have an Even Set of Numbers?\n",
    "\n",
    "\n",
    "\n",
    "\n",
    "<center> <td><img src=\"even set of numbers.PNG\" align=\"middle\" style=\"width:600px;height:220;\"/></td> </center>\n"
   ]
  },
  {
   "cell_type": "code",
   "execution_count": 63,
   "metadata": {
    "collapsed": false
   },
   "outputs": [
    {
     "name": "stdout",
     "output_type": "stream",
     "text": [
      "[3, 5, 7, 8, 9] [11, 15, 16, 20, 21]\n",
      "Your IQR = 9 with Q1= 7, Q3= 16 \n",
      "And Q2(Median) = 10.0\n"
     ]
    }
   ],
   "source": [
    "from collections import Counter\n",
    "#sep 1 : put the numbers in order\n",
    "def sorting(n):\n",
    "    n=sorted(n)\n",
    "    return n\n",
    "#step 2 : Make a mark in the center of the data\n",
    "def make_a_mark(n):\n",
    "    in_between = int(len(n)/2)\n",
    "    return in_between\n",
    "#step 3 : Place parentheses around the numbers above and below the mark you made in Step 2 - it makes Q1 and Q3 easier to spot\n",
    "def place_parentheses(n):\n",
    "    n=sorted(n)\n",
    "    k=make_a_mark(n)\n",
    "    Q1=[]\n",
    "    Q3=[]\n",
    "    for i in range(k): \n",
    "        Q1.append(n[i])\n",
    "    for i in range(k,len(n),1):\n",
    "        Q3.append(n[i])\n",
    "    return (Q1,Q3)    \n",
    "#step 4 : Find Q1 & Q3\n",
    "def finding_median(n):\n",
    "    n=sorted(n)\n",
    "    N=len(n)\n",
    "    if N<=0:\n",
    "        print(\"Dont accept negative number\")\n",
    "    elif N%2!=0:\n",
    "        result=n[int(N/2)]\n",
    "    elif N%2==0:\n",
    "        result=float(n[int(N/2)]+n[int(N/2-1)])/2\n",
    "    return result\n",
    "#step 5 : find_IQR Subtract Q1 from Q3\n",
    "def find_IQR(q1,q3):\n",
    "    IQR=q3-q1\n",
    "    return IQR\n",
    "    \n",
    "if __name__=='__main__':\n",
    "    cnt=Counter()\n",
    "    #n=[1, 2, 5, 6, 7, 9, 12, 15, 18, 19, 27]\n",
    "    n=[3, 5, 7, 8, 9, 11, 15, 16, 20, 21]\n",
    "    #n=[10,42,45,46,51,52,58,73]\n",
    "    call_seperateFunc=place_parentheses(n) #  CAll Multiple return values\n",
    "    QQ1=call_seperateFunc[0]  #  CAll Multiple return values\n",
    "    QQ3=call_seperateFunc[1]\n",
    "    print(QQ1,QQ3)\n",
    "    print(\"Your IQR = {} with Q1= {}, Q3= {} \".format(find_IQR(finding_median(QQ1),finding_median(QQ3)),\n",
    "                                                      finding_median(QQ1),\n",
    "                                                      finding_median(QQ3))  )\n",
    "    print(\"And Q2(Median) = {}\".format(finding_median(n)))"
   ]
  },
  {
   "cell_type": "markdown",
   "metadata": {},
   "source": [
    "\n",
    "##  What if I Have an Odd Set of Numbers?\n",
    "\n",
    "\n",
    "\n",
    "\n",
    "<center> <td><img src=\"odd set of numbers.PNG\" align=\"middle\" style=\"width:600px;height:220;\"/></td> </center>\n"
   ]
  },
  {
   "cell_type": "code",
   "execution_count": 65,
   "metadata": {
    "collapsed": false
   },
   "outputs": [
    {
     "name": "stdout",
     "output_type": "stream",
     "text": [
      "[1, 2, 5, 6, 7] [12, 15, 18, 19, 27]\n",
      "Your IQR = 13 with Q1= 5, Q3= 18 \n",
      "And Q2(Median) = 9\n"
     ]
    }
   ],
   "source": [
    "#step1 : Put the numbers in order\n",
    "def sorting(n):\n",
    "    return sorted(n)\n",
    "#step2 : find the median\n",
    "def find_the_median(n):\n",
    "    return int(len(n)/2 +1)\n",
    "#step3 : place parenthese around the numbers\n",
    "def place_parentheses(n):\n",
    "    n=sorted(n)\n",
    "    k=find_the_median(n)\n",
    "    Q1=[]\n",
    "    Q3=[]\n",
    "    for i in range(k-1): \n",
    "        Q1.append(n[i])\n",
    "    for i in range(k,len(n),1):\n",
    "        Q3.append(n[i])\n",
    "    return (Q1,Q3)    \n",
    "\n",
    "#step 4 : Find Q1 & Q3\n",
    "def finding_median(n):\n",
    "    n=sorted(n)\n",
    "    N=len(n)\n",
    "    if N<=0:\n",
    "        print(\"Dont accept negative number\")\n",
    "    elif N%2!=0:\n",
    "        result=n[int(N/2)]\n",
    "    elif N%2==0:\n",
    "        result=float(n[int(N/2)]+n[int(N/2-1)])/2\n",
    "    return result\n",
    "#step 5 : find_IQR Subtract Q1 from Q3\n",
    "def find_IQR(q1,q3):\n",
    "    IQR=q3-q1\n",
    "    return IQR\n",
    "    \n",
    "if __name__=='__main__':\n",
    "    n=[1, 2, 5, 6, 7, 9, 12, 15, 18, 19, 27]\n",
    "    #n=[3, 5, 7, 8, 9, 11, 15, 16, 20, 21]\n",
    "    \n",
    "    call_seperateFunc=place_parentheses(n) #  CAll Multiple return values\n",
    "    QQ1=call_seperateFunc[0]  #  CAll Multiple return values\n",
    "    QQ3=call_seperateFunc[1]\n",
    "    print(QQ1,QQ3)\n",
    "    print(\"Your IQR = {} with Q1= {}, Q3= {} \".format(find_IQR(finding_median(QQ1),finding_median(QQ3)),\n",
    "                                                      finding_median(QQ1),\n",
    "                                                      finding_median(QQ3))  )\n",
    "    print(\"And Q2(Median) = {}\".format(finding_median(n)))"
   ]
  },
  {
   "cell_type": "markdown",
   "metadata": {},
   "source": [
    "--------------------------------------------------------------------------------------"
   ]
  },
  {
   "cell_type": "markdown",
   "metadata": {},
   "source": [
    "\n",
    "##  Ví Dụ\n",
    "\n",
    "LinkBT: https://hcmftu.wordpress.com/2015/03/07/thong-ke-thu-tu-va-cac-phan-vi-mau/\n",
    "\n",
    "<center> <td><img src=\"IQTest1.PNG\" align=\"middle\" style=\"width:700px;height:220;\"/></td> </center>\n",
    "<center> <td><img src=\"IQTest.PNG\" align=\"middle\" style=\"width:700px;height:220;\"/></td> </center>\n"
   ]
  },
  {
   "cell_type": "code",
   "execution_count": 23,
   "metadata": {
    "collapsed": false
   },
   "outputs": [],
   "source": [
    "with open('IQTest.txt') as f:\n",
    "    global array \n",
    "    array =  []\n",
    "    for line in f: # read rest of lines\n",
    "        array.append([int(x) for x in line.split()])"
   ]
  },
  {
   "cell_type": "code",
   "execution_count": 26,
   "metadata": {
    "collapsed": false
   },
   "outputs": [
    {
     "data": {
      "text/plain": [
       "list"
      ]
     },
     "execution_count": 26,
     "metadata": {},
     "output_type": "execute_result"
    }
   ],
   "source": [
    "n=[3, 5, 7, 8, 9, 11, 15, 16, 20, 21]\n",
    "type(n)"
   ]
  },
  {
   "cell_type": "code",
   "execution_count": 19,
   "metadata": {
    "collapsed": false
   },
   "outputs": [
    {
     "ename": "AttributeError",
     "evalue": "'list' object has no attribute 'shape'",
     "output_type": "error",
     "traceback": [
      "\u001b[0;31m---------------------------------------------------------------------------\u001b[0m",
      "\u001b[0;31mAttributeError\u001b[0m                            Traceback (most recent call last)",
      "\u001b[0;32m<ipython-input-19-da24b535a9cd>\u001b[0m in \u001b[0;36m<module>\u001b[0;34m()\u001b[0m\n\u001b[0;32m----> 1\u001b[0;31m \u001b[0marray\u001b[0m\u001b[1;33m.\u001b[0m\u001b[0mshape\u001b[0m\u001b[1;33m\u001b[0m\u001b[0m\n\u001b[0m",
      "\u001b[0;31mAttributeError\u001b[0m: 'list' object has no attribute 'shape'"
     ]
    }
   ],
   "source": [
    "array.shape"
   ]
  },
  {
   "cell_type": "code",
   "execution_count": 11,
   "metadata": {
    "collapsed": false
   },
   "outputs": [],
   "source": [
    "import numpy as np"
   ]
  },
  {
   "cell_type": "code",
   "execution_count": 12,
   "metadata": {
    "collapsed": true
   },
   "outputs": [],
   "source": [
    "X=array"
   ]
  },
  {
   "cell_type": "code",
   "execution_count": 16,
   "metadata": {
    "collapsed": false
   },
   "outputs": [
    {
     "data": {
      "text/plain": [
       "array([[ 68,  75,  78,  83,  85,  85,  85,  86,  86,  87,  87,  88,  90,\n",
       "         91,  91,  91,  91,  93,  93,  93,  94,  94,  94,  96,  96,  97,\n",
       "         98,  98,  99,  99,  99,  99, 100, 101, 101, 102, 102, 104, 104,\n",
       "        105, 105, 105, 106, 106, 106, 107, 107, 107, 107, 107, 108, 109,\n",
       "        110, 110, 111, 114, 116, 116, 117, 122, 123, 128, 136, 141]])"
      ]
     },
     "execution_count": 16,
     "metadata": {},
     "output_type": "execute_result"
    }
   ],
   "source": [
    "X=np.array(X)\n",
    "X"
   ]
  },
  {
   "cell_type": "code",
   "execution_count": 15,
   "metadata": {
    "collapsed": false
   },
   "outputs": [
    {
     "data": {
      "text/plain": [
       "(1, 64)"
      ]
     },
     "execution_count": 15,
     "metadata": {},
     "output_type": "execute_result"
    }
   ],
   "source": [
    "X.shape"
   ]
  },
  {
   "cell_type": "code",
   "execution_count": 37,
   "metadata": {
    "collapsed": false
   },
   "outputs": [
    {
     "name": "stdout",
     "output_type": "stream",
     "text": [
      "Your IQR = 16.0 with Q1(25%)= 91.0, Q3(75%)= 107.0 And Q2(Median/50%) = 99.5 \n"
     ]
    }
   ],
   "source": [
    "from collections import Counter\n",
    "#sep 1 : put the numbers in order\n",
    "def sorting(n):\n",
    "    n=sorted(n)\n",
    "    return n\n",
    "#step 2 : Make a mark in the center of the data\n",
    "def make_a_mark(n):\n",
    "    in_between = int(len(n)/2)\n",
    "    return in_between\n",
    "#step 3 : Place parentheses around the numbers above and below the mark you made in Step 2 - it makes Q1 and Q3 easier to spot\n",
    "def place_parentheses(n):\n",
    "    n=sorted(n)\n",
    "    k=make_a_mark(n)\n",
    "    Q1=[]\n",
    "    Q3=[]\n",
    "    for i in range(k): \n",
    "        Q1.append(n[i])\n",
    "    for i in range(k,len(n),1):\n",
    "        Q3.append(n[i])\n",
    "    return (Q1,Q3)    \n",
    "#step 4 : Find Q1 & Q3\n",
    "def finding_median(n):\n",
    "    n=sorted(n)\n",
    "    N=len(n)\n",
    "    if N<=0:\n",
    "        print(\"Dont accept negative number\")\n",
    "    elif N%2!=0:\n",
    "        result=n[int(N/2)]\n",
    "    elif N%2==0:\n",
    "        result=float(n[int(N/2)]+n[int(N/2-1)])/2\n",
    "    return result\n",
    "#step 5 : find_IQR Subtract Q1 from Q3\n",
    "def find_IQR(q1,q3):\n",
    "    IQR=q3-q1\n",
    "    return IQR\n",
    "    \n",
    "if __name__=='__main__':\n",
    "    n=[68,  75,  78,  83,  85,  85,  85,  86,  86,  87,  87,  88,  90,\n",
    "         91,  91,  91,  91,  93,  93,  93,  94,  94,  94,  96,  96,  97,\n",
    "         98,  98,  99,  99,  99,  99, 100, 101, 101, 102, 102, 104, 104,\n",
    "        105, 105, 105, 106, 106, 106, 107, 107, 107, 107, 107, 108, 109,\n",
    "        110, 110, 111, 114, 116, 116, 117, 122, 123, 128, 136, 141]\n",
    "    call_seperateFunc=place_parentheses(n) #  CAll Multiple return values\n",
    "    QQ1=call_seperateFunc[0]  #  CAll Multiple return values\n",
    "    QQ3=call_seperateFunc[1]\n",
    "    print(\"Your IQR = {} with Q1(25%)= {}, Q3(75%)= {} And Q2(Median/50%) = {} \".format(find_IQR(finding_median(QQ1),finding_median(QQ3)),\n",
    "                                                      finding_median(QQ1),\n",
    "                                                      finding_median(QQ3),\n",
    "                                                      finding_median(n)))\n"
   ]
  },
  {
   "cell_type": "code",
   "execution_count": null,
   "metadata": {
    "collapsed": true
   },
   "outputs": [],
   "source": []
  },
  {
   "cell_type": "code",
   "execution_count": null,
   "metadata": {
    "collapsed": true
   },
   "outputs": [],
   "source": []
  },
  {
   "cell_type": "code",
   "execution_count": null,
   "metadata": {
    "collapsed": true
   },
   "outputs": [],
   "source": []
  },
  {
   "cell_type": "code",
   "execution_count": null,
   "metadata": {
    "collapsed": true
   },
   "outputs": [],
   "source": []
  },
  {
   "cell_type": "code",
   "execution_count": null,
   "metadata": {
    "collapsed": true
   },
   "outputs": [],
   "source": []
  }
 ],
 "metadata": {
  "kernelspec": {
   "display_name": "Python 3",
   "language": "python",
   "name": "python3"
  },
  "language_info": {
   "codemirror_mode": {
    "name": "ipython",
    "version": 3
   },
   "file_extension": ".py",
   "mimetype": "text/x-python",
   "name": "python",
   "nbconvert_exporter": "python",
   "pygments_lexer": "ipython3",
   "version": "3.6.0"
  }
 },
 "nbformat": 4,
 "nbformat_minor": 2
}
