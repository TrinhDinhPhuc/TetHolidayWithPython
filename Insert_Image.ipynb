{
 "cells": [
  {
   "cell_type": "markdown",
   "metadata": {},
   "source": [
    "Newton's law of universal gravitation :  .... luật vạn vật hấp dấn Newton\n",
    "\n",
    "\n",
    "\n",
    "\n",
    "<br><br><center><h1 style=\"font-size:2em;color:#2467C0\">Newton's law of universal gravitation </h1></center>\n",
    "<br>\n",
    "<td><img src=\"http://slideplayer.com/slide/7064207/24/images/5/Newton%E2%80%99s+Law+of+Universal+Gravitation.jpg\" align=\"middle\" style=\"width:500px;height:180;\"/></td>\n",
    "<td>\n"
   ]
  },
  {
   "cell_type": "markdown",
   "metadata": {},
   "source": [
    "Newton's law of universal gravitation :  .... luật vạn vật hấp dấn Newton\n",
    "\n",
    "\n",
    "\n",
    "\n",
    "<br><br><center><h1 style=\"font-size:2em;color:#2467C0\">Newton's law of universal gravitation </h1></center>\n",
    "<br>\n",
    "<td><img src=\"Newton's law of universal gravitation.PNG\" align=\"middle\" style=\"width:500px;height:180;\"/></td>\n",
    "<td>\n"
   ]
  },
  {
   "cell_type": "markdown",
   "metadata": {},
   "source": []
  },
  {
   "cell_type": "code",
   "execution_count": 6,
   "metadata": {
    "collapsed": false
   },
   "outputs": [
    {
     "name": "stdout",
     "output_type": "stream",
     "text": [
      " Volume in drive C has no label.\n",
      " Volume Serial Number is 372F-3690\n",
      "\n",
      " Directory of C:\\Users\\USER\\Documents\\Py_Project\\TetHolidayWithPython\n",
      "\n",
      "02/15/2018  10:29 PM    <DIR>          .\n",
      "02/15/2018  10:29 PM    <DIR>          ..\n",
      "02/15/2018  10:21 PM    <DIR>          .ipynb_checkpoints\n",
      "02/11/2018  09:23 AM    <DIR>          Bushing_up_python\n",
      "02/11/2018  09:55 PM           277,551 Dijkstra.png\n",
      "02/14/2018  04:30 PM             2,341 Dijkstra.py\n",
      "02/14/2018  10:04 PM               153 Dijkstra_1.py\n",
      "02/15/2018  10:26 PM    <DIR>          Doing math with python\n",
      "02/15/2018  10:24 PM             1,192 Insert_Image.ipynb\n",
      "02/07/2018  09:40 AM             1,394 Keyword to search ML.txt\n",
      "02/07/2018  02:00 PM            32,144 K-nearest neighbors ML_CoBan.ipynb\n",
      "02/15/2018  10:29 PM           121,174 Newton's law of universal gravitation.PNG\n",
      "02/10/2018  09:13 PM    <DIR>          NiggaTelegramBot\n",
      "02/09/2018  02:49 PM             1,230 OAuth.py\n",
      "02/09/2018  01:01 PM               311 OrderTeaCoffee\n",
      "02/11/2018  12:00 PM             2,915 PseudoCode.ipynb\n",
      "02/10/2018  09:54 AM    <DIR>          Sentiment Analysis\n",
      "02/08/2018  10:04 AM             7,021 Standard_Deviation.ipynb\n",
      "02/09/2018  01:07 PM             1,850 TinhTien.py\n",
      "02/07/2018  09:46 PM               581 Untitled.ipynb\n",
      "              13 File(s)        449,857 bytes\n",
      "               7 Dir(s)  59,547,045,888 bytes free\n"
     ]
    }
   ],
   "source": [
    "ls"
   ]
  },
  {
   "cell_type": "code",
   "execution_count": null,
   "metadata": {
    "collapsed": true
   },
   "outputs": [],
   "source": []
  },
  {
   "cell_type": "code",
   "execution_count": null,
   "metadata": {
    "collapsed": true
   },
   "outputs": [],
   "source": []
  }
 ],
 "metadata": {
  "kernelspec": {
   "display_name": "Python 3",
   "language": "python",
   "name": "python3"
  },
  "language_info": {
   "codemirror_mode": {
    "name": "ipython",
    "version": 3
   },
   "file_extension": ".py",
   "mimetype": "text/x-python",
   "name": "python",
   "nbconvert_exporter": "python",
   "pygments_lexer": "ipython3",
   "version": "3.6.0"
  }
 },
 "nbformat": 4,
 "nbformat_minor": 2
}
