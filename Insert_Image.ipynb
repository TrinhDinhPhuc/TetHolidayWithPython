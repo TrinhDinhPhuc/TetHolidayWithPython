{
 "cells": [
  {
   "cell_type": "markdown",
   "metadata": {},
   "source": [
    "Newton's law of universal gravitation :  .... luật vạn vật hấp dấn Newton\n",
    "\n",
    "\n",
    "\n",
    "\n",
    "<br><br><center><h1 style=\"font-size:2em;color:#2467C0\">Newton's law of universal gravitation </h1></center>\n",
    "<br>\n",
    "<td><img src=\"http://slideplayer.com/slide/7064207/24/images/5/Newton%E2%80%99s+Law+of+Universal+Gravitation.jpg\" align=\"middle\" style=\"width:500px;height:180;\"/></td>\n",
    "<td>\n"
   ]
  },
  {
   "cell_type": "markdown",
   "metadata": {},
   "source": []
  },
  {
   "cell_type": "code",
   "execution_count": null,
   "metadata": {
    "collapsed": true
   },
   "outputs": [],
   "source": []
  }
 ],
 "metadata": {
  "kernelspec": {
   "display_name": "Python 3",
   "language": "python",
   "name": "python3"
  },
  "language_info": {
   "codemirror_mode": {
    "name": "ipython",
    "version": 3
   },
   "file_extension": ".py",
   "mimetype": "text/x-python",
   "name": "python",
   "nbconvert_exporter": "python",
   "pygments_lexer": "ipython3",
   "version": "3.6.0"
  }
 },
 "nbformat": 4,
 "nbformat_minor": 2
}
