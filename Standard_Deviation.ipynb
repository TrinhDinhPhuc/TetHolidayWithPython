{
 "cells": [
  {
   "cell_type": "code",
   "execution_count": 1,
   "metadata": {
    "collapsed": true
   },
   "outputs": [],
   "source": [
    "import numpy as np"
   ]
  },
  {
   "cell_type": "markdown",
   "metadata": {},
   "source": [
    "Standard-deviation: \n",
    "http://www.mathsisfun.com/data/standard-deviation.html\n",
    "Độ lệch chuẩn là thước đo mức độ lây lan của các con số. it is the square root of the Variance. So now you ask, \"What is the Variance?\"\n",
    "\n",
    "Variance= The average of the squared differences from the Mean.\n",
    "\n",
    "<br><br><center><h1 style=\"font-size:2em;color:#2467C0\">World Development Indicators</h1></center>\n",
    "<br>\n",
    "<td><img src=\"http://www.mathsisfun.com/data/images/statistics-standard-deviation.gif\" align=\"middle\" style=\"width:450px;height:300px;\"/></td>\n",
    "<td>\n"
   ]
  },
  {
   "cell_type": "code",
   "execution_count": null,
   "metadata": {
    "collapsed": true
   },
   "outputs": [],
   "source": []
  },
  {
   "cell_type": "code",
   "execution_count": null,
   "metadata": {
    "collapsed": true
   },
   "outputs": [],
   "source": []
  },
  {
   "cell_type": "code",
   "execution_count": null,
   "metadata": {
    "collapsed": true
   },
   "outputs": [],
   "source": []
  },
  {
   "cell_type": "code",
   "execution_count": null,
   "metadata": {
    "collapsed": true
   },
   "outputs": [],
   "source": []
  },
  {
   "cell_type": "code",
   "execution_count": 2,
   "metadata": {
    "collapsed": false
   },
   "outputs": [
    {
     "name": "stdout",
     "output_type": "stream",
     "text": [
      "STD = 46.56894530335282\n",
      "Let's see the function 46.56894530335282\n",
      "--------------------------------------------------\n"
     ]
    }
   ],
   "source": [
    "s = [98, 127, 133, 147, 170, 197, 201, 211, 255]\n",
    "print(\"STD = {}\".format(np.std(s)))\n",
    "def standard_deviation(_arr,population=True):\n",
    "    num_items=len(_arr)\n",
    "    mean=sum(_arr)/num_items\n",
    "    xi_mean=[xi - mean for xi in _arr]\n",
    "    double_xi_mean=[d ** 2 for d in xi_mean]\n",
    "    sum_Arr=sum(double_xi_mean)\n",
    "    final_result=np.sqrt(1/num_items*sum_Arr)\n",
    "    return final_result\n",
    "print(\"Let's see the function {}\".format(standard_deviation(s)))\n",
    "print(\"--------------------------------------------------\")"
   ]
  },
  {
   "cell_type": "code",
   "execution_count": null,
   "metadata": {
    "collapsed": true
   },
   "outputs": [],
   "source": []
  }
 ],
 "metadata": {
  "kernelspec": {
   "display_name": "Python 3",
   "language": "python",
   "name": "python3"
  },
  "language_info": {
   "codemirror_mode": {
    "name": "ipython",
    "version": 3
   },
   "file_extension": ".py",
   "mimetype": "text/x-python",
   "name": "python",
   "nbconvert_exporter": "python",
   "pygments_lexer": "ipython3",
   "version": "3.6.0"
  }
 },
 "nbformat": 4,
 "nbformat_minor": 2
}
