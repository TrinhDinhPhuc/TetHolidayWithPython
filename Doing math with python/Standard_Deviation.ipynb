{
 "cells": [
  {
   "cell_type": "code",
   "execution_count": 2,
   "metadata": {
    "collapsed": true
   },
   "outputs": [],
   "source": [
    "import numpy as np"
   ]
  },
  {
   "cell_type": "markdown",
   "metadata": {},
   "source": [
    "Standard-deviation:  http://www.mathsisfun.com/data/standard-deviation.html\n",
    "\n",
    "\n",
    "Độ lệch chuẩn là thước đo mức độ lây lan của các con số. it is the square root of the Variance. So now you ask, \"What is the Variance?\"\n",
    "\n",
    "Variance= The average of the squared differences from the Mean.\n",
    "\n",
    "<br><br><center><h1 style=\"font-size:2em;color:#2467C0\">Standard Deviation</h1></center>\n",
    "<br>\n",
    "<td><img src=\"http://www.mathsisfun.com/data/images/statistics-standard-deviation.gif\" align=\"middle\" style=\"width:500px;height:180;\"/></td>\n",
    "<td>\n"
   ]
  },
  {
   "cell_type": "markdown",
   "metadata": {},
   "source": [
    "Here are the two formulas, explained at Standard Deviation Formulas if you want to know more:\n",
    "\n",
    "<br><br><center><h1 style=\"font-size:2em;color:#2467C0\">Standard Deviation Formulas</h1></center>\n",
    "<br>\n",
    "<td><img src=\"Standard_Deviation.PNG\" align=\"middle\" style=\"width:1000px;height:400;\"/></td>"
   ]
  },
  {
   "cell_type": "markdown",
   "metadata": {
    "collapsed": false
   },
   "source": [
    "<br><br><center><h1 style=\"font-size:2em;color:#2467C0\">Variance</h1></center>\n",
    "<br>\n",
    "<td><img src=\"variance.PNG\" align=\"middle\" style=\"width:1000px;height:400;\"/></td>"
   ]
  },
  {
   "cell_type": "markdown",
   "metadata": {},
   "source": []
  },
  {
   "cell_type": "markdown",
   "metadata": {},
   "source": [
    "## Cách làm việc của for lồng\n"
   ]
  },
  {
   "cell_type": "code",
   "execution_count": 2,
   "metadata": {
    "collapsed": false
   },
   "outputs": [
    {
     "name": "stdout",
     "output_type": "stream",
     "text": [
      "Sum Xi = [196, 254, 266, 294, 340, 394, 402, 422, 510]\n",
      "3078\n"
     ]
    }
   ],
   "source": [
    "s = [98, 127, 133, 147, 170, 197, 201, 211, 255]\n",
    "sum_xi=[xi+xi  for xi in s]\n",
    "sum(sum_xi)\n",
    "print(\"Sum Xi = {}\\n{}\".format(sum_xi,sum(sum_xi)))"
   ]
  },
  {
   "cell_type": "markdown",
   "metadata": {},
   "source": [
    "###  Hàm trả về"
   ]
  },
  {
   "cell_type": "code",
   "execution_count": 4,
   "metadata": {
    "collapsed": false
   },
   "outputs": [
    {
     "name": "stdout",
     "output_type": "stream",
     "text": [
      "STD = 46.56894530335282\n",
      "Variance= 2168.6666666666665, Mean= 171.0\n",
      "Let's see the function when population is TRUE 46.56894530335282\n",
      "Let's see the function when population is FALSE (It is a sample) 49.393825525059306\n",
      "--------------------------------------------------\n"
     ]
    },
    {
     "data": {
      "image/png": "[encoded data removed]",
      "text/plain": [
       "<matplotlib.figure.Figure at 0x5e9689c6d8>"
      ]
     },
     "metadata": {},
     "output_type": "display_data"
    }
   ],
   "source": [
    "import math\n",
    "import matplotlib.pyplot\n",
    "from pylab import plot, show, title, xlabel, ylabel, legend, figure\n",
    "from pylab import axis\n",
    "\n",
    "%matplotlib inline\n",
    "\n",
    "s = [98, 127, 133, 147, 170, 197, 201, 211, 255]\n",
    "print(\"STD = {}\".format(np.std(s)))\n",
    "def calculate_mean(numbers):\n",
    "    s = sum(numbers)\n",
    "    N = len(numbers)\n",
    "    # Calculate the mean\n",
    "    mean = s/N\n",
    "    return mean\n",
    "def calculate_variance(n):\n",
    "    global differ_Arr\n",
    "    differ_Arr=[]\n",
    "    squared_sum=0\n",
    "    for i in n:\n",
    "        temp=i-calculate_mean(n)\n",
    "        differ_Arr.append(math.fabs(temp))\n",
    "    for k in differ_Arr:\n",
    "        squared_sum+=k**2\n",
    "    variance=squared_sum/(len(differ_Arr))\n",
    "    return variance\n",
    "print(\"Variance= {}, Mean= {}\".format(calculate_variance(s),calculate_mean(s)))\n",
    "def standard_deviation(_arr,population=True):\n",
    "    num_items=len(_arr)\n",
    "    mean=sum(_arr)/num_items\n",
    "    xi_mean=[xi - mean for xi in _arr]\n",
    "    double_xi_mean=[d ** 2 for d in xi_mean]\n",
    "    sum_Arr=sum(double_xi_mean)\n",
    "    population_result=np.sqrt(1/num_items*sum_Arr)\n",
    "    sample_result=np.sqrt((1/(num_items-1))*sum_Arr)\n",
    "    if population is True:\n",
    "        return population_result\n",
    "    else:\n",
    "        return sample_result\n",
    "    \n",
    "print(\"Let's see the function when population is TRUE {}\".format(standard_deviation(s)))\n",
    "print(\"Let's see the function when population is FALSE (It is a sample) {}\".format(standard_deviation(s,population=False)))\n",
    "print(\"--------------------------------------------------\")\n",
    "if __name__=='__main__':\n",
    "    x = np.arange(0,8.00001,1)\n",
    "    figure(figsize=(12,5))     \n",
    "    plot(x,differ_Arr,x,s,marker='o')\n",
    "    axis(ymin=0,xmin=0)\n",
    "    legend(['differ','S'])\n",
    "    \n"
   ]
  },
  {
   "cell_type": "markdown",
   "metadata": {},
   "source": [
    "#### Quá tuyệt vời, từ biểu đồ ta thấy. ở điểm thứ 5 là gần sát trục hoành, chứng tỏ độ chênh lệch với mean là thấp nhất. Mean=171,s[5]=170 "
   ]
  },
  {
   "cell_type": "markdown",
   "metadata": {
    "collapsed": true
   },
   "source": [
    "###  Hàm ko trả về"
   ]
  },
  {
   "cell_type": "code",
   "execution_count": 4,
   "metadata": {
    "collapsed": false
   },
   "outputs": [
    {
     "name": "stdout",
     "output_type": "stream",
     "text": [
      "This is POPULATION standard deviation.\n",
      "The mean of [98, 127, 133, 147, 170, 197, 201, 211, 255] is 171.0.\n",
      "The differences are [-73.0, -44.0, -38.0, -24.0, -1.0, 26.0, 30.0, 40.0, 84.0].\n",
      "The sum of squared differences is 19518.0.\n",
      "The variance is 2168.6666666666665.\n",
      "The standard deviation is 46.56894530335282.\n",
      "--------------------------\n",
      "This is SAMPLE standard deviation.\n",
      "The mean of [98, 127, 133, 147, 170, 197, 201, 211, 255] is 171.0.\n",
      "The differences are [-73.0, -44.0, -38.0, -24.0, -1.0, 26.0, 30.0, 40.0, 84.0].\n",
      "The sum of squared differences is 19518.0.\n",
      "The variance is 2439.75.\n",
      "The standard deviation is 49.393825525059306.\n",
      "--------------------------\n"
     ]
    }
   ],
   "source": [
    "from math import sqrt\n",
    " \n",
    " \n",
    "def standard_deviation(lst, population=True):\n",
    "    \"\"\"Calculates the standard deviation for a list of numbers.\"\"\"\n",
    "    num_items = len(lst)\n",
    "    mean = sum(lst) / num_items\n",
    "    differences = [x - mean for x in lst]\n",
    "    sq_differences = [d ** 2 for d in differences]\n",
    "    ssd = sum(sq_differences)\n",
    " \n",
    "    # Note: it would be better to return a value and then print it outside\n",
    "    # the function, but this is just a quick way to print out the values along\n",
    "    # the way.\n",
    "    if population is True:\n",
    "        print('This is POPULATION standard deviation.')\n",
    "        variance = ssd / num_items\n",
    "    else:\n",
    "        print('This is SAMPLE standard deviation.')\n",
    "        variance = ssd / (num_items - 1)\n",
    "    sd = sqrt(variance)\n",
    "    # You could `return sd` here.\n",
    " \n",
    "    print('The mean of {} is {}.'.format(lst, mean))\n",
    "    print('The differences are {}.'.format(differences))\n",
    "    print('The sum of squared differences is {}.'.format(ssd))\n",
    "    print('The variance is {}.'.format(variance))\n",
    "    print('The standard deviation is {}.'.format(sd))\n",
    "    print('--------------------------')\n",
    " \n",
    " \n",
    "s = [98, 127, 133, 147, 170, 197, 201, 211, 255]\n",
    "standard_deviation(s)\n",
    "standard_deviation(s, population=False)"
   ]
  },
  {
   "cell_type": "code",
   "execution_count": null,
   "metadata": {
    "collapsed": false
   },
   "outputs": [],
   "source": []
  },
  {
   "cell_type": "code",
   "execution_count": null,
   "metadata": {
    "collapsed": false
   },
   "outputs": [],
   "source": []
  },
  {
   "cell_type": "code",
   "execution_count": null,
   "metadata": {
    "collapsed": false
   },
   "outputs": [],
   "source": []
  },
  {
   "cell_type": "code",
   "execution_count": null,
   "metadata": {
    "collapsed": true
   },
   "outputs": [],
   "source": []
  },
  {
   "cell_type": "code",
   "execution_count": null,
   "metadata": {
    "collapsed": false
   },
   "outputs": [],
   "source": []
  },
  {
   "cell_type": "code",
   "execution_count": null,
   "metadata": {
    "collapsed": true
   },
   "outputs": [],
   "source": []
  }
 ],
 "metadata": {
  "kernelspec": {
   "display_name": "Python 3",
   "language": "python",
   "name": "python3"
  },
  "language_info": {
   "codemirror_mode": {
    "name": "ipython",
    "version": 3
   },
   "file_extension": ".py",
   "mimetype": "text/x-python",
   "name": "python",
   "nbconvert_exporter": "python",
   "pygments_lexer": "ipython3",
   "version": "3.6.0"
  }
 },
 "nbformat": 4,
 "nbformat_minor": 0
}
