{
 "cells": [
  {
   "cell_type": "code",
   "execution_count": 22,
   "metadata": {
    "collapsed": false
   },
   "outputs": [
    {
     "data": {
      "image/png": "[encoded data removed]",
      "text/plain": [
       "<matplotlib.figure.Figure at 0x2c93ce2f28>"
      ]
     },
     "metadata": {},
     "output_type": "display_data"
    }
   ],
   "source": [
    "import csv\n",
    "import matplotlib.pyplot as plt\n",
    "def scatter_plot(x, y):\n",
    "    plt.scatter(x, y)\n",
    "    plt.xlabel('Number')\n",
    "    plt.ylabel('Square')\n",
    "    plt.axis(xmin=0,ymin=0)\n",
    "    plt.show()\n",
    "def read_csv(filename):\n",
    "    numbers=[]\n",
    "    squared=[]\n",
    "    with open(filename) as f:\n",
    "        reader= csv.reader(f)\n",
    "        next(reader)\n",
    "        for row in reader:\n",
    "            numbers.append(int(row[0]))\n",
    "            squared.append(int(row[1]))\n",
    "        return numbers, squared\n",
    "if __name__=='__main__':\n",
    "    numbers, squared = read_csv('numbers.csv')\n",
    "    scatter_plot(numbers,squared)"
   ]
  },
  {
   "cell_type": "code",
   "execution_count": null,
   "metadata": {
    "collapsed": true
   },
   "outputs": [],
   "source": []
  },
  {
   "cell_type": "code",
   "execution_count": 6,
   "metadata": {
    "collapsed": false
   },
   "outputs": [
    {
     "name": "stdout",
     "output_type": "stream",
     "text": [
      " Volume in drive C has no label.\n",
      " Volume Serial Number is 372F-3690\n",
      "\n",
      " Directory of C:\\Users\\USER\\Documents\\Py_Project\\TetHolidayWithPython\\Doing math with python\n",
      "\n",
      "02/19/2018  04:32 PM    <DIR>          .\n",
      "02/19/2018  04:32 PM    <DIR>          ..\n",
      "02/19/2018  12:09 PM    <DIR>          .ipynb_checkpoints\n",
      "02/16/2018  12:25 AM            16,885 Algorithm_Fibonacii.PNG\n",
      "02/19/2018  12:05 PM             9,051 calculating the correlation between two Data sets.ipynb\n",
      "02/17/2018  08:38 AM           111,788 calculating the correlation coefficient.PNG\n",
      "02/16/2018  11:26 PM           301,966 Chapter2 -Visualizing data with graphs.ipynb\n",
      "02/17/2018  08:34 AM            87,299 correlation and causation.PNG\n",
      "02/17/2018  08:23 AM           131,983 Correlation4.PNG\n",
      "02/17/2018  08:23 AM            24,734 Correlation5.PNG\n",
      "02/16/2018  11:26 PM             8,221 Describing data with statistics.ipynb\n",
      "02/19/2018  12:02 PM         6,975,603 Doing-Math-with-Python-Use-Programming-to-Explore-Algebra-Statistics-Calculus-and-More-.pdf\n",
      "02/18/2018  11:59 PM         1,868,216 expatriate nguoi nuoc ngoai.PNG\n",
      "02/16/2018  12:15 AM           141,036 Fibonacci.PNG\n",
      "02/16/2018  12:42 AM            17,647 math_Fibo.PNG\n",
      "02/16/2018  09:59 AM           120,221 median.PNG\n",
      "02/15/2018  10:38 PM            11,156 My_first_saving_plot.png\n",
      "02/15/2018  10:29 PM           121,174 Newton's law of universal gravitation.PNG\n",
      "02/19/2018  04:23 PM                36 numbers.csv\n",
      "02/19/2018  04:32 PM            13,027 Reading data from CSV-Others file.ipynb\n",
      "02/18/2018  11:38 PM            19,644 six feed under.PNG\n",
      "02/17/2018  09:12 AM            32,654 Standard_Deviation.ipynb\n",
      "02/16/2018  09:46 AM            24,652 Standard_Deviation.PNG\n",
      "02/16/2018  10:27 PM            43,626 variance.PNG\n",
      "              21 File(s)     10,080,619 bytes\n",
      "               3 Dir(s)  60,445,798,400 bytes free\n"
     ]
    }
   ],
   "source": [
    "ls"
   ]
  },
  {
   "cell_type": "code",
   "execution_count": null,
   "metadata": {
    "collapsed": true
   },
   "outputs": [],
   "source": []
  },
  {
   "cell_type": "code",
   "execution_count": null,
   "metadata": {
    "collapsed": true
   },
   "outputs": [],
   "source": []
  },
  {
   "cell_type": "code",
   "execution_count": null,
   "metadata": {
    "collapsed": true
   },
   "outputs": [],
   "source": []
  }
 ],
 "metadata": {
  "kernelspec": {
   "display_name": "Python 3",
   "language": "python",
   "name": "python3"
  },
  "language_info": {
   "codemirror_mode": {
    "name": "ipython",
    "version": 3
   },
   "file_extension": ".py",
   "mimetype": "text/x-python",
   "name": "python",
   "nbconvert_exporter": "python",
   "pygments_lexer": "ipython3",
   "version": "3.6.0"
  }
 },
 "nbformat": 4,
 "nbformat_minor": 2
}
