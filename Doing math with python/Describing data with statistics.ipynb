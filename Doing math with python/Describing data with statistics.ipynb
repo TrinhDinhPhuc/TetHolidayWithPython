{
 "cells": [
  {
   "cell_type": "code",
   "execution_count": 1,
   "metadata": {
    "collapsed": true
   },
   "outputs": [],
   "source": [
    "import numpy as np"
   ]
  },
  {
   "cell_type": "markdown",
   "metadata": {},
   "source": []
  },
  {
   "cell_type": "markdown",
   "metadata": {},
   "source": [
    "Here are the two formulas, explained at Standard Deviation Formulas if you want to know more:\n",
    "\n",
    "<br><br><center><h1 style=\"font-size:2em;color:#2467C0\">Standard Deviation Formulas</h1></center>\n",
    "<br>\n",
    "<td><img src=\"Standard_Deviation.PNG\" align=\"middle\" style=\"width:700px;height:380;\"/></td>"
   ]
  },
  {
   "cell_type": "markdown",
   "metadata": {},
   "source": [
    "<strong> Note</strong> In statistics, some statistical measures are calculated slightly differently depending on whether you have data for an entire population or just a sample. To keep things simple, we’ll stick with the calculation methods for a population in this chapter."
   ]
  },
  {
   "cell_type": "markdown",
   "metadata": {},
   "source": [
    "## Finding the Mean"
   ]
  },
  {
   "cell_type": "code",
   "execution_count": 7,
   "metadata": {
    "collapsed": false
   },
   "outputs": [
    {
     "name": "stdout",
     "output_type": "stream",
     "text": [
      "477.75\n"
     ]
    }
   ],
   "source": [
    "def calculate_mean(n):\n",
    "    s=sum(n)  # cac tinh nang cua list \n",
    "    N=len(n)\n",
    "    mean = s/N\n",
    "    return mean\n",
    "\n",
    "if __name__=='__main__':\n",
    "    donations = [100, 60, 70, 900, 100, 200, 500, 500, 503, 600, 1000, 1200]\n",
    "    mean=calculate_mean(donations)\n",
    "    print(mean)\n"
   ]
  },
  {
   "cell_type": "markdown",
   "metadata": {},
   "source": [
    "## Finding the Median"
   ]
  },
  {
   "cell_type": "markdown",
   "metadata": {},
   "source": [
    "<br><br><center><h1 style=\"font-size:2em;color:#2467C0\">MEDIAN</h1></center>\n",
    "<br>\n",
    "<td><img src=\"median.PNG\" align=\"middle\" style=\"width:700px;height:380;\"/></td>"
   ]
  },
  {
   "cell_type": "code",
   "execution_count": 60,
   "metadata": {
    "collapsed": false
   },
   "outputs": [
    {
     "name": "stdout",
     "output_type": "stream",
     "text": [
      "The median of N([60, 70, 100, 100, 200, 500, 500, 503, 600, 900, 1000, 1200]) with length[N=12] is: 500.0\n"
     ]
    }
   ],
   "source": [
    "def finding_median(n):\n",
    "    n=sorted(n)\n",
    "    N=len(n)\n",
    "    if N<=0:\n",
    "        print(\"dont accept negative number\")\n",
    "    elif N%2!=0:\n",
    "        result=n[int(N/2)]\n",
    "    elif N%2==0:\n",
    "        result=float(n[int(N/2)]+n[int(N/2-1)])/2\n",
    "    return result\n",
    "if __name__=='__main__':\n",
    "    kk= [100, 60, 70, 900, 100, 200, 500, 500, 503, 600, 1000, 1200]\n",
    "    print(\"The median of N({}) with length[N={}] is: {}\".format(sorted(kk),len(kk),finding_median(kk)))"
   ]
  },
  {
   "cell_type": "code",
   "execution_count": 52,
   "metadata": {
    "collapsed": false
   },
   "outputs": [
    {
     "name": "stdout",
     "output_type": "stream",
     "text": [
      "<class 'int'> 6\n",
      "500 200\n",
      "[60, 70, 100, 100, 200, 500, 500, 503, 600, 900, 1000, 1200]\n"
     ]
    }
   ],
   "source": [
    "kk= [100, 60, 70, 900, 100, 200, 500, 500, 503, 600, 1000, 1200]\n",
    "N=len(kk)\n",
    "print(type(N),int(N/2))\n",
    "kk[0]\n",
    "print(kk[int(N/2)],kk[int((N/2)-1)])\n",
    "NNN=sorted(kk)\n",
    "print(NNN)"
   ]
  },
  {
   "cell_type": "markdown",
   "metadata": {},
   "source": [
    "## Finding the Mode and creating a frequency table"
   ]
  },
  {
   "cell_type": "markdown",
   "metadata": {},
   "source": [
    "<strong>Mode</strong>:  Instead of fnding the mean value or the median value of a set of numbers, what if you wanted to fnd the number that occurs most frequently? This number is called the mode."
   ]
  },
  {
   "cell_type": "code",
   "execution_count": 64,
   "metadata": {
    "collapsed": false
   },
   "outputs": [],
   "source": [
    "from collections import Counter"
   ]
  },
  {
   "cell_type": "code",
   "execution_count": 115,
   "metadata": {
    "collapsed": false
   },
   "outputs": [
    {
     "name": "stdout",
     "output_type": "stream",
     "text": [
      " key=   [7, 8, 9, 2, 10, 4, 5, 6, 1] \n",
      " value= [2, 2, 5, 1, 2, 1, 2, 3, 2]\n",
      "The number occurs most frequently is 9 with 5 times\n"
     ]
    }
   ],
   "source": [
    "def max_position(n):\n",
    "    temp=0\n",
    "    for i in n:\n",
    "        if temp<i:\n",
    "            temp=i\n",
    "    pos=n.index(temp)\n",
    "    return pos\n",
    "def seperate_appending(n):\n",
    "    key_Arr1=[]\n",
    "    value_Arr1=[]\n",
    "    for key,value in cnt.items():\n",
    "        key_Arr1.append(key)\n",
    "        value_Arr1.append(value)\n",
    "    return (key_Arr1,value_Arr1)    #  Multiple return values\n",
    "if __name__=='__main__':\n",
    "    find_mode=[7, 8, 9, 2, 10, 9, 9, 9, 9, 4, 5, 6, 1, 5, 6, 7, 8, 6, 1, 10]\n",
    "    cnt=Counter()\n",
    "    for i in find_mode:\n",
    "        cnt[i]+=1\n",
    "    call_seperateFunc=seperate_appending(cnt) #  CAll Multiple return values\n",
    "    key_Arr=call_seperateFunc[0]  #  CAll Multiple return values\n",
    "    value_Arr=call_seperateFunc[1] #  CAll Multiple return values\n",
    "    print(\" key=   {} \\n value= {}\".format(key_Arr,value_Arr))\n",
    "    print(\"The number occurs most frequently is {} with {} times\".format(key_Arr[max_position(value_Arr)],\n",
    "                                                                         value_Arr[max_position(value_Arr)]))"
   ]
  },
  {
   "cell_type": "markdown",
   "metadata": {},
   "source": [
    "#### Multiple return values"
   ]
  },
  {
   "cell_type": "code",
   "execution_count": 111,
   "metadata": {
    "collapsed": false
   },
   "outputs": [
    {
     "name": "stdout",
     "output_type": "stream",
     "text": [
      "Danny\n",
      "30\n"
     ]
    }
   ],
   "source": [
    "def profile():\n",
    "    name = \"Danny\"\n",
    "    age = 30\n",
    "    return (name, age)\n",
    "\n",
    "profile_data = profile()\n",
    "print(profile_data[0])\n",
    "# Output: Danny\n",
    "\n",
    "print(profile_data[1])\n",
    "# Output: 30"
   ]
  },
  {
   "cell_type": "markdown",
   "metadata": {},
   "source": [
    "#### Global & Return"
   ]
  },
  {
   "cell_type": "code",
   "execution_count": 117,
   "metadata": {
    "collapsed": false
   },
   "outputs": [
    {
     "name": "stdout",
     "output_type": "stream",
     "text": [
      "8\n"
     ]
    }
   ],
   "source": [
    "def add(value1,value2):\n",
    "    global result\n",
    "    result = value1 + value2\n",
    "\n",
    "add(3,5)\n",
    "print(result)\n",
    "# Output: 8"
   ]
  },
  {
   "cell_type": "code",
   "execution_count": null,
   "metadata": {
    "collapsed": true
   },
   "outputs": [],
   "source": []
  },
  {
   "cell_type": "code",
   "execution_count": null,
   "metadata": {
    "collapsed": true
   },
   "outputs": [],
   "source": []
  },
  {
   "cell_type": "code",
   "execution_count": null,
   "metadata": {
    "collapsed": true
   },
   "outputs": [],
   "source": []
  },
  {
   "cell_type": "code",
   "execution_count": null,
   "metadata": {
    "collapsed": true
   },
   "outputs": [],
   "source": []
  },
  {
   "cell_type": "code",
   "execution_count": null,
   "metadata": {
    "collapsed": true
   },
   "outputs": [],
   "source": []
  },
  {
   "cell_type": "code",
   "execution_count": null,
   "metadata": {
    "collapsed": true
   },
   "outputs": [],
   "source": []
  }
 ],
 "metadata": {
  "kernelspec": {
   "display_name": "Python 3",
   "language": "python",
   "name": "python3"
  },
  "language_info": {
   "codemirror_mode": {
    "name": "ipython",
    "version": 3
   },
   "file_extension": ".py",
   "mimetype": "text/x-python",
   "name": "python",
   "nbconvert_exporter": "python",
   "pygments_lexer": "ipython3",
   "version": "3.6.0"
  }
 },
 "nbformat": 4,
 "nbformat_minor": 2
}
