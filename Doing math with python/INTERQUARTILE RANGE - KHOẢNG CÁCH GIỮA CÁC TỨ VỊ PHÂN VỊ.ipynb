{
 "cells": [
  {
   "cell_type": "markdown",
   "metadata": {},
   "source": [
    "<br><br><center><h1 style=\"font-size:2em;color:#2467C0\">INTERQUARTILE RANGE / KHOẢNG CÁCH GIỮA CÁC TỨ VỊ PHÂN VỊ</h1></center>\n",
    "<br>\n",
    "<td><img src=\"How_to_find_IQR_Boxplot_Image.jpg\" align=\"middle\" style=\"width:500px;height:180;\"/></td>\n",
    "<td>"
   ]
  },
  {
   "cell_type": "markdown",
   "metadata": {},
   "source": [
    "### INTERQUARTILE RANGE / KHOẢNG CÁCH GIỮA CÁC TỨ VỊ PHÂN VỊ\n",
    "\n",
    "Là một thước đo sự phân tán của số liệu mẫu hoặc phân phối, thuật ngữ này được định nghĩa như sự chênh lệch giữa giá trị cao nhất và thấp nhất của các tứ phân vị, và vì vậy nó chứa 50% giá trị trung tâm các quan sát của các biến số liên quan.\n",
    "\n",
    "<center> <td><img src=\"DN.PNG\" align=\"middle\" style=\"width:600px;height:300;\"/></td> </center>\n"
   ]
  },
  {
   "cell_type": "markdown",
   "metadata": {},
   "source": [
    "## Quartiles (tứ phân vị)\n",
    "\n",
    "\n",
    "<center> <td><img src=\"IQR1.PNG\" align=\"middle\" style=\"width:800px;height:380;\"/></td> </center>\n"
   ]
  },
  {
   "cell_type": "markdown",
   "metadata": {},
   "source": [
    "##  Khoảng tứ phân vị (Interquartile Range - IQR)\n",
    "\n",
    "\n",
    "\n",
    "\n",
    "<center> <td><img src=\"IQR2.PNG\" align=\"middle\" style=\"width:800px;height:380;\"/></td> </center>\n"
   ]
  },
  {
   "cell_type": "markdown",
   "metadata": {},
   "source": [
    "##  Khoảng tứ phân vị (Interquartile Range - IQR)\n",
    "\n",
    "\n",
    "\n",
    "\n",
    "<center> <td><img src=\"BoxPlot.PNG\" align=\"middle\" style=\"width:800px;height:380;\"/></td> </center>\n"
   ]
  },
  {
   "cell_type": "markdown",
   "metadata": {},
   "source": [
    "\n",
    "##  What if I Have an Even Set of Numbers?\n",
    "\n",
    "\n",
    "\n",
    "\n",
    "<center> <td><img src=\"even set of numbers.PNG\" align=\"middle\" style=\"width:600px;height:220;\"/></td> </center>\n"
   ]
  },
  {
   "cell_type": "code",
   "execution_count": 58,
   "metadata": {
    "collapsed": false
   },
   "outputs": [
    {
     "name": "stdout",
     "output_type": "stream",
     "text": [
      "[3, 5, 7, 8, 9] [11, 15, 16, 20, 21]\n",
      "Your IQR = 9 with Q1= 7, Q3= 16 \n"
     ]
    }
   ],
   "source": [
    "from collections import Counter\n",
    "#sep 1 : put the numbers in order\n",
    "def sorting(n):\n",
    "    n=sorted(n)\n",
    "    return n\n",
    "#step 2 : Make a mark in the center of the data\n",
    "def make_a_mark(n):\n",
    "    in_between = int(len(n)/2)\n",
    "    return in_between\n",
    "#step 3 : Place parentheses around the numbers above and below the mark you made in Step 2 - it makes Q1 and Q3 easier to spot\n",
    "def place_parentheses(n):\n",
    "    n=sorted(n)\n",
    "    k=make_a_mark(n)\n",
    "    Q1=[]\n",
    "    Q3=[]\n",
    "    for i in range(k): \n",
    "        Q1.append(n[i])\n",
    "    for i in range(k,len(n),1):\n",
    "        Q3.append(n[i])\n",
    "    return (Q1,Q3)    \n",
    "#step 4 : Find Q1 & Q3\n",
    "def finding_median(n):\n",
    "    n=sorted(n)\n",
    "    N=len(n)\n",
    "    if N<=0:\n",
    "        print(\"Dont accept negative number\")\n",
    "    elif N%2!=0:\n",
    "        result=n[int(N/2)]\n",
    "    elif N%2==0:\n",
    "        result=float(n[int(N/2)]+n[int(N/2-1)])/2\n",
    "    return result\n",
    "#step 5 : find_IQR Subtract Q1 from Q3\n",
    "def find_IQR(q1,q3):\n",
    "    IQR=q3-q1\n",
    "    return IQR\n",
    "    \n",
    "if __name__=='__main__':\n",
    "    cnt=Counter()\n",
    "    #n=[1, 2, 5, 6, 7, 9, 12, 15, 18, 19, 27]\n",
    "    n=[3, 5, 7, 8, 9, 11, 15, 16, 20, 21]\n",
    "    call_seperateFunc=place_parentheses(n) #  CAll Multiple return values\n",
    "    QQ1=call_seperateFunc[0]  #  CAll Multiple return values\n",
    "    QQ3=call_seperateFunc[1]\n",
    "    print(QQ1,QQ3)\n",
    "    print(\"Your IQR = {} with Q1= {}, Q3= {} \".format(find_IQR(finding_median(QQ1),finding_median(QQ3)),\n",
    "                                                      finding_median(QQ1),\n",
    "                                                      finding_median(QQ3))  )"
   ]
  },
  {
   "cell_type": "markdown",
   "metadata": {},
   "source": [
    "\n",
    "##  What if I Have an Odd Set of Numbers?\n",
    "\n",
    "\n",
    "\n",
    "\n",
    "<center> <td><img src=\"odd set of numbers.PNG\" align=\"middle\" style=\"width:600px;height:220;\"/></td> </center>\n"
   ]
  },
  {
   "cell_type": "code",
   "execution_count": 59,
   "metadata": {
    "collapsed": false
   },
   "outputs": [
    {
     "name": "stdout",
     "output_type": "stream",
     "text": [
      "[1, 2, 5, 6, 7] [12, 15, 18, 19, 27]\n",
      "Your IQR = 13 with Q1= 5, Q3= 18 \n"
     ]
    }
   ],
   "source": [
    "#step1 : Put the numbers in order\n",
    "def sorting(n):\n",
    "    return sorted(n)\n",
    "#step2 : find the median\n",
    "def find_the_median(n):\n",
    "    return int(len(n)/2 +1)\n",
    "#step3 : place parenthese around the numbers\n",
    "def place_parentheses(n):\n",
    "    n=sorted(n)\n",
    "    k=find_the_median(n)\n",
    "    Q1=[]\n",
    "    Q3=[]\n",
    "    for i in range(k-1): \n",
    "        Q1.append(n[i])\n",
    "    for i in range(k,len(n),1):\n",
    "        Q3.append(n[i])\n",
    "    return (Q1,Q3)    \n",
    "\n",
    "#step 4 : Find Q1 & Q3\n",
    "def finding_median(n):\n",
    "    n=sorted(n)\n",
    "    N=len(n)\n",
    "    if N<=0:\n",
    "        print(\"Dont accept negative number\")\n",
    "    elif N%2!=0:\n",
    "        result=n[int(N/2)]\n",
    "    elif N%2==0:\n",
    "        result=float(n[int(N/2)]+n[int(N/2-1)])/2\n",
    "    return result\n",
    "#step 5 : find_IQR Subtract Q1 from Q3\n",
    "def find_IQR(q1,q3):\n",
    "    IQR=q3-q1\n",
    "    return IQR\n",
    "    \n",
    "if __name__=='__main__':\n",
    "    cnt=Counter()\n",
    "    n=[1, 2, 5, 6, 7, 9, 12, 15, 18, 19, 27]\n",
    "    #n=[3, 5, 7, 8, 9, 11, 15, 16, 20, 21]\n",
    "    call_seperateFunc=place_parentheses(n) #  CAll Multiple return values\n",
    "    QQ1=call_seperateFunc[0]  #  CAll Multiple return values\n",
    "    QQ3=call_seperateFunc[1]\n",
    "    print(QQ1,QQ3)\n",
    "    print(\"Your IQR = {} with Q1= {}, Q3= {} \".format(find_IQR(finding_median(QQ1),finding_median(QQ3)),\n",
    "                                                      finding_median(QQ1),\n",
    "                                                      finding_median(QQ3))  )\n"
   ]
  },
  {
   "cell_type": "code",
   "execution_count": null,
   "metadata": {
    "collapsed": true
   },
   "outputs": [],
   "source": []
  },
  {
   "cell_type": "code",
   "execution_count": null,
   "metadata": {
    "collapsed": false
   },
   "outputs": [],
   "source": []
  },
  {
   "cell_type": "code",
   "execution_count": null,
   "metadata": {
    "collapsed": false
   },
   "outputs": [],
   "source": []
  },
  {
   "cell_type": "code",
   "execution_count": null,
   "metadata": {
    "collapsed": true
   },
   "outputs": [],
   "source": []
  }
 ],
 "metadata": {
  "kernelspec": {
   "display_name": "Python 3",
   "language": "python",
   "name": "python3"
  },
  "language_info": {
   "codemirror_mode": {
    "name": "ipython",
    "version": 3
   },
   "file_extension": ".py",
   "mimetype": "text/x-python",
   "name": "python",
   "nbconvert_exporter": "python",
   "pygments_lexer": "ipython3",
   "version": "3.6.0"
  }
 },
 "nbformat": 4,
 "nbformat_minor": 2
}
