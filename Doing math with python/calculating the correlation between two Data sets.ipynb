{
 "cells": [
  {
   "cell_type": "markdown",
   "metadata": {},
   "source": [
    "# Calculating the correlation between two Data sets"
   ]
  },
  {
   "cell_type": "markdown",
   "metadata": {},
   "source": [
    "<center><h1 style=\"font-size:1em;color:#f26b5c\">\n",
    "PHÂN TÍCH TƯƠNG QUAN VÀ GIẢI THÍCH Ý NGHĨA CỦA MÔ HÌNH.\n",
    "- Phân tích tương quan là một phép phân tích được sử dụng là thước đo độ lớn của các mối liên hệ giữa các biến định lượng trong nghiên cứu. Thông qua thước đo này người nghiên cứu có thể xác định mối liên hệ tuyến tính giữa các biến độc lập, phụ thuộc trong nghiên cứu.\n",
    "2/ ĐẶC ĐIỂM.\n",
    "- Dựa trên một khoảng tin cậy cho trước sẽ có một giá trị tương quan của mô hình giữa các biến đại diện.\n",
    "- Khoảng giá trị của hệ số tương quan chạy trong đoạn giá trị [-1 đến 1]. Dấu của hệ số tương quan nói lên tính liên hệ thuận nghịch giữa các biến .\n",
    "- Phản ánh tính chất tuyến tính của mô hình hồi quy.</h1></center>\n"
   ]
  },
  {
   "cell_type": "markdown",
   "metadata": {},
   "source": [
    "<center><h1 style=\"font-size:2em;color:#2467C0\">calculating the correlation between two Data sets</h1></center>\n",
    "<td><img src=\"Correlation4.PNG\" align=\"middle\" style=\"width:800px;height:180;\"/></td>\n",
    "<td><img src=\"Correlation5.PNG\" align=\"middle\" style=\"width:700px;height:180;\"/></td>\n",
    "<td><img src=\"correlation and causation.PNG\" align=\"middle\" style=\"width:700px;height:220;\"/></td>\n"
   ]
  },
  {
   "cell_type": "markdown",
   "metadata": {},
   "source": [
    "## Calculating the Correlation Coefficient"
   ]
  },
  {
   "cell_type": "markdown",
   "metadata": {},
   "source": [
    "<center><h1 style=\"font-size:2em;color:#2467C0\">calculating the correlation between two Data sets</h1></center>\n",
    "<td><img src=\"calculating the correlation coefficient.PNG\" align=\"middle\" style=\"width:700px;height:180;\"/></td>"
   ]
  },
  {
   "cell_type": "code",
   "execution_count": 6,
   "metadata": {
    "collapsed": false
   },
   "outputs": [
    {
     "name": "stdout",
     "output_type": "stream",
     "text": [
      "Correlation Coefficient of x = [90, 92, 95, 96, 87, 87, 90, 95, 98, 96], \n",
      "\t\t\t   y = [85, 87, 86, 97, 96, 88, 89, 98, 98, 87]\n",
      "\t\t\t   is -427.9008082518962 \n",
      "\n",
      " (0.31837857756837518, 0.36995283091350484) \n",
      "\n",
      "corrcoef [[ 1.          0.31837858]\n",
      " [ 0.31837858  1.        ]]\n",
      "Correlation Coefficient of x = [15, 12, 8, 8, 7, 7, 7, 6, 5, 3], \n",
      "\t\t\t   y = [10, 25, 17, 11, 13, 17, 20, 13, 9, 15]\n",
      "\t\t\t   is -6.208557346136612 \n",
      "\n",
      " (0.14499815458068518, 0.68940144811669546) \n",
      "\n",
      "corrcoef [[ 1.          0.14499815]\n",
      " [ 0.14499815  1.        ]]\n",
      "Okay so the best to caculate coefficiene is numpy.corrcoef and here is the resut:\n",
      " [[ 1.          0.14499815]\n",
      " [ 0.14499815  1.        ]]\n"
     ]
    }
   ],
   "source": [
    "import math\n",
    "from scipy.stats.stats import pearsonr   \n",
    "import numpy\n",
    "\n",
    "def sum_XY(x,y):\n",
    "    total=0\n",
    "    for i,j in zip(x,y):\n",
    "        sum=i+j\n",
    "        total+=sum\n",
    "    return total\n",
    "# def sum_XY1(x,y):\n",
    "#     sum=[(i+j) for i,j in zip(x,y)]\n",
    "def sum_X(x):\n",
    "    sum=0\n",
    "    for i in x:\n",
    "        sum+=i\n",
    "    return sum\n",
    "def squared_ofTheSum_X(x):\n",
    "    squared_sum=sum_X(x)**2\n",
    "    return squared_sum\n",
    "def sum_of_the_squares(n):\n",
    "    squared_l=0\n",
    "    for i in n:\n",
    "        k=i**2\n",
    "        squared_l+=k\n",
    "    return squared_l\n",
    "def length_set(n):\n",
    "    length=len(n)\n",
    "    return length\n",
    "\n",
    "def correlation(x,y):\n",
    "    correlation=(length_set(x)*sum_XY(x,y)-sum_X(x)*sum_X(y))/(math.sqrt((length_set(x)*sum_of_the_squares(x)-(squared_ofTheSum_X(x)))*(length_set(y)*sum_of_the_squares(y)-(squared_ofTheSum_X(y)))))\n",
    "    return correlation\n",
    "if __name__==\"__main__\":\n",
    "    s1 = [90,92,95,96,87,87,90,95,98,96]\n",
    "    s2 = [85,87,86,97,96,88,89,98,98,87]\n",
    "    a = [15, 12, 8, 8, 7, 7, 7, 6, 5, 3]\n",
    "    b = [10, 25, 17, 11, 13, 17, 20, 13, 9, 15]\n",
    "    print(\"Correlation Coefficient of x = {}, \\n\\t\\t\\t   y = {}\\n\\t\\t\\t   is {}\".format(s1,s2,correlation(s1,s2)),\"\\n\\n\",pearsonr(s1,s2),\"\\n\\ncorrcoef\",numpy.corrcoef(s1,s2))\n",
    "    print(\"Correlation Coefficient of x = {}, \\n\\t\\t\\t   y = {}\\n\\t\\t\\t   is {}\".format(a,b,correlation(a,b)),\"\\n\\n\",pearsonr(a,b),\"\\n\\ncorrcoef\",numpy.corrcoef(a,b))\n",
    "    \n",
    "    print(\"Okay so the best to caculate coefficiene is numpy.corrcoef and here is the resut:\\n {}\".format(numpy.corrcoef(a,b)))"
   ]
  },
  {
   "cell_type": "markdown",
   "metadata": {
    "collapsed": true
   },
   "source": [
    "Trong tài chính, Hệ số tương quan là một công cụ thống kê dùng để đo lường mối quan hệ tương quan của 2 chứng khoán. Hệ số tương quan thường được sử dụng trong quản trị danh mục đầu tư. \n",
    "Hệ số tương quan có giá trị nằm trong khoảng -1 đến +1. Hai chứng khoán ( hoặc tài sản) được xem là tương quan dương hoàn hảo (Perfect positive correlation) khi hệ số tương quan bằng +1, nghĩa là 1 chứng khoán dịch chuyển đi lên (hoặc xuông) thì chứng khoán kia cũng dịch chuyển đi lên (hoặc xuống) một đoạn tương ứng. Ngược lại, hai chứng khoán được xem là tương quan âm hoàn hảo (Perfect negative correlation) khi hệ số tương quan có giá trị -1, nghĩa là 1 chứng khoán dịch chuyển đi lên (hoặc xuống) thì chứng khoán kia dịch chuyển theo hướng ngược lại, tức là dịch chuyển đi xuống (hoặc đi lên) 1 đoạn tương ứng. Nếu 2 chứng khoán có hệ số tương quan bằng 0 thì 2 chứng khoán được xem là không tương quan với nhau. \n",
    "Trong thực tế, sự tương quan hoàn hảo là ít khi xảy ra mà thay vào đó chúng ta sẽ thường thấy những chứng khoán tương quan với nhau theo một mức độ nào đó.   "
   ]
  },
  {
   "cell_type": "code",
   "execution_count": null,
   "metadata": {
    "collapsed": true
   },
   "outputs": [],
   "source": []
  },
  {
   "cell_type": "code",
   "execution_count": null,
   "metadata": {
    "collapsed": false
   },
   "outputs": [],
   "source": []
  },
  {
   "cell_type": "code",
   "execution_count": null,
   "metadata": {
    "collapsed": true
   },
   "outputs": [],
   "source": []
  },
  {
   "cell_type": "code",
   "execution_count": null,
   "metadata": {
    "collapsed": true
   },
   "outputs": [],
   "source": []
  },
  {
   "cell_type": "code",
   "execution_count": null,
   "metadata": {
    "collapsed": true
   },
   "outputs": [],
   "source": []
  },
  {
   "cell_type": "code",
   "execution_count": null,
   "metadata": {
    "collapsed": true
   },
   "outputs": [],
   "source": []
  },
  {
   "cell_type": "code",
   "execution_count": null,
   "metadata": {
    "collapsed": true
   },
   "outputs": [],
   "source": []
  },
  {
   "cell_type": "code",
   "execution_count": null,
   "metadata": {
    "collapsed": true
   },
   "outputs": [],
   "source": []
  },
  {
   "cell_type": "code",
   "execution_count": null,
   "metadata": {
    "collapsed": true
   },
   "outputs": [],
   "source": []
  },
  {
   "cell_type": "code",
   "execution_count": null,
   "metadata": {
    "collapsed": true
   },
   "outputs": [],
   "source": []
  },
  {
   "cell_type": "code",
   "execution_count": null,
   "metadata": {
    "collapsed": true
   },
   "outputs": [],
   "source": []
  },
  {
   "cell_type": "code",
   "execution_count": null,
   "metadata": {
    "collapsed": true
   },
   "outputs": [],
   "source": []
  },
  {
   "cell_type": "code",
   "execution_count": null,
   "metadata": {
    "collapsed": true
   },
   "outputs": [],
   "source": []
  },
  {
   "cell_type": "code",
   "execution_count": null,
   "metadata": {
    "collapsed": true
   },
   "outputs": [],
   "source": []
  }
 ],
 "metadata": {
  "kernelspec": {
   "display_name": "Python 3",
   "language": "python",
   "name": "python3"
  },
  "language_info": {
   "codemirror_mode": {
    "name": "ipython",
    "version": 3
   },
   "file_extension": ".py",
   "mimetype": "text/x-python",
   "name": "python",
   "nbconvert_exporter": "python",
   "pygments_lexer": "ipython3",
   "version": "3.6.0"
  }
 },
 "nbformat": 4,
 "nbformat_minor": 2
}
