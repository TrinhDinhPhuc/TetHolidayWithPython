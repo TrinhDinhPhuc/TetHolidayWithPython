{
 "cells": [
  {
   "cell_type": "markdown",
   "metadata": {},
   "source": [
    "# Calculating the correlation between two Data sets"
   ]
  },
  {
   "cell_type": "markdown",
   "metadata": {},
   "source": [
    "<center><h1 style=\"font-size:2em;color:#2467C0\">calculating the correlation between two Data sets</h1></center>\n",
    "<td><img src=\"Correlation4.PNG\" align=\"middle\" style=\"width:800px;height:180;\"/></td>\n",
    "<td><img src=\"Correlation5.PNG\" align=\"middle\" style=\"width:700px;height:180;\"/></td>\n",
    "<td><img src=\"correlation and causation.PNG\" align=\"middle\" style=\"width:700px;height:220;\"/></td>\n"
   ]
  },
  {
   "cell_type": "markdown",
   "metadata": {},
   "source": [
    "## Calculating the Correlation Coefficient"
   ]
  },
  {
   "cell_type": "markdown",
   "metadata": {},
   "source": [
    "<center><h1 style=\"font-size:2em;color:#2467C0\">calculating the correlation between two Data sets</h1></center>\n",
    "<td><img src=\"calculating the correlation coefficient.PNG\" align=\"middle\" style=\"width:700px;height:180;\"/></td>"
   ]
  },
  {
   "cell_type": "code",
   "execution_count": 3,
   "metadata": {
    "collapsed": false
   },
   "outputs": [
    {
     "name": "stdout",
     "output_type": "stream",
     "text": [
      " Volume in drive C has no label.\n",
      " Volume Serial Number is 372F-3690\n",
      "\n",
      " Directory of C:\\Users\\USER\\Documents\\Py_Project\\TetHolidayWithPython\\Doing math with python\n",
      "\n",
      "02/17/2018  08:39 AM    <DIR>          .\n",
      "02/17/2018  08:39 AM    <DIR>          ..\n",
      "02/17/2018  08:11 AM    <DIR>          .ipynb_checkpoints\n",
      "02/16/2018  12:25 AM            16,885 Algorithm_Fibonacii.PNG\n",
      "02/17/2018  08:39 AM             3,751 calculating the correlation between two Data sets.ipynb\n",
      "02/17/2018  08:38 AM           111,788 calculating the correlation coefficient.PNG\n",
      "02/16/2018  11:26 PM           301,966 Chapter2 -Visualizing data with graphs.ipynb\n",
      "02/17/2018  08:34 AM            87,299 correlation and causation.PNG\n",
      "02/17/2018  08:23 AM           131,983 Correlation4.PNG\n",
      "02/17/2018  08:23 AM            24,734 Correlation5.PNG\n",
      "02/16/2018  11:26 PM             8,221 Describing data with statistics.ipynb\n",
      "02/17/2018  08:21 AM         6,951,077 Doing-Math-with-Python-Use-Programming-to-Explore-Algebra-Statistics-Calculus-and-More-.pdf\n",
      "02/16/2018  12:15 AM           141,036 Fibonacci.PNG\n",
      "02/16/2018  12:42 AM            17,647 math_Fibo.PNG\n",
      "02/16/2018  09:59 AM           120,221 median.PNG\n",
      "02/15/2018  10:38 PM            11,156 My_first_saving_plot.png\n",
      "02/15/2018  10:29 PM           121,174 Newton's law of universal gravitation.PNG\n",
      "02/17/2018  08:25 AM            32,654 Standard_Deviation.ipynb\n",
      "02/16/2018  09:46 AM            24,652 Standard_Deviation.PNG\n",
      "02/16/2018  10:27 PM            43,626 variance.PNG\n",
      "              17 File(s)      8,149,870 bytes\n",
      "               3 Dir(s)  60,549,869,568 bytes free\n"
     ]
    }
   ],
   "source": []
  },
  {
   "cell_type": "code",
   "execution_count": null,
   "metadata": {
    "collapsed": true
   },
   "outputs": [],
   "source": []
  },
  {
   "cell_type": "code",
   "execution_count": null,
   "metadata": {
    "collapsed": true
   },
   "outputs": [],
   "source": []
  },
  {
   "cell_type": "code",
   "execution_count": null,
   "metadata": {
    "collapsed": true
   },
   "outputs": [],
   "source": []
  },
  {
   "cell_type": "code",
   "execution_count": null,
   "metadata": {
    "collapsed": true
   },
   "outputs": [],
   "source": []
  },
  {
   "cell_type": "code",
   "execution_count": null,
   "metadata": {
    "collapsed": true
   },
   "outputs": [],
   "source": []
  },
  {
   "cell_type": "code",
   "execution_count": null,
   "metadata": {
    "collapsed": true
   },
   "outputs": [],
   "source": []
  },
  {
   "cell_type": "code",
   "execution_count": null,
   "metadata": {
    "collapsed": true
   },
   "outputs": [],
   "source": []
  },
  {
   "cell_type": "code",
   "execution_count": null,
   "metadata": {
    "collapsed": true
   },
   "outputs": [],
   "source": []
  },
  {
   "cell_type": "code",
   "execution_count": null,
   "metadata": {
    "collapsed": true
   },
   "outputs": [],
   "source": []
  },
  {
   "cell_type": "code",
   "execution_count": null,
   "metadata": {
    "collapsed": true
   },
   "outputs": [],
   "source": []
  },
  {
   "cell_type": "code",
   "execution_count": null,
   "metadata": {
    "collapsed": true
   },
   "outputs": [],
   "source": []
  },
  {
   "cell_type": "code",
   "execution_count": null,
   "metadata": {
    "collapsed": true
   },
   "outputs": [],
   "source": []
  },
  {
   "cell_type": "code",
   "execution_count": null,
   "metadata": {
    "collapsed": true
   },
   "outputs": [],
   "source": []
  },
  {
   "cell_type": "code",
   "execution_count": null,
   "metadata": {
    "collapsed": true
   },
   "outputs": [],
   "source": []
  },
  {
   "cell_type": "code",
   "execution_count": null,
   "metadata": {
    "collapsed": true
   },
   "outputs": [],
   "source": []
  }
 ],
 "metadata": {
  "kernelspec": {
   "display_name": "Python 3",
   "language": "python",
   "name": "python3"
  },
  "language_info": {
   "codemirror_mode": {
    "name": "ipython",
    "version": 3
   },
   "file_extension": ".py",
   "mimetype": "text/x-python",
   "name": "python",
   "nbconvert_exporter": "python",
   "pygments_lexer": "ipython3",
   "version": "3.6.0"
  }
 },
 "nbformat": 4,
 "nbformat_minor": 2
}
