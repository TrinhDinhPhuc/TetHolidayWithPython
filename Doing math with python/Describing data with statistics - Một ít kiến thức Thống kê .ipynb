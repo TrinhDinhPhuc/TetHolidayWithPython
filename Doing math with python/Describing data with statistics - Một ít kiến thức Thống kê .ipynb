{
 "cells": [
  {
   "cell_type": "markdown",
   "metadata": {},
   "source": [
    "##### Ta biết rằng 4 lĩnh vực liên quan của khai phá dữ liệu gồm thống kê (statistics), Máy học (Machine Learning), Cơ sở dữ liệu (Database) và biễu diễn tri thức (Visualization). Trong 4 lĩnh vực này thì thống kê đóng vài trò rất quan trọng trong quá trình khai phá dữ liệu nhất là trong kiểm định kết quả của mô hình và trong đánh giá tri thức phát hiện được.\n"
   ]
  },
  {
   "cell_type": "markdown",
   "metadata": {},
   "source": [
    "Bài viết này giới thiệu sơ lược về các khái niệm cơ bản của thống kê dùng trong mô tả dữ liệu như các tham số đo lường xu hướng tập trung của dữ liệu (mean, Median, mode) và đo lường sự biến thiên của dữ liệu (Rang, Variance và Standard Deviation, Standard Error).\n"
   ]
  },
  {
   "cell_type": "markdown",
   "metadata": {},
   "source": [
    "#### Để dễ hình dung, ta bắt đầu với ví dụ đơn giản sau:"
   ]
  },
  {
   "cell_type": "markdown",
   "metadata": {},
   "source": [
    "Giả sử rằng bạn chạy 100 m trong sáu lần, mỗi lần chạy bạn dùng đồng hồ đo lại thời gian chạy (tính bằng giây) và kết quả 6 lần chạy của bạn gồm sáu giá trị (còn gọi là quan sát) như sau:\n",
    "x={25.1, 21.2, 17.9, 23.0, 24.6, 19.5}\n",
    "Dữ liệu này cho bạn biết những thông tin gì? Sau đây là một số thống kê đơn giản của dữ liệu về thời gian chạy 100m của bạn:\n",
    "-          Thời gian chạy trung bình (mean) là 21.9 giây\n",
    "\n",
    "-          Giá trị giữa (còn gọi là trung vị - median) là 22.1 giây\n",
    "\n",
    "-          Thời gian chạy nhiều nhất (maximum) là 25.1 giây và thời gian chạy ít nhất (minimum) là 17.9giây. Nếu so sánh với kỷ lục thế giới về 100m là 9.78 giây thì bạn biết rằng mình chạy để tập thể dục cho khỏe chứ không phải là vận động viên điền kinh chuyên nghiệp!\n",
    "\n",
    "-          Phương sai (variance) là 8.2 giây bình phương và độ lệch chuẩn (standard Deviation) là 2.9 giây"
   ]
  },
  {
   "cell_type": "markdown",
   "metadata": {},
   "source": [
    "### Đo lường số đo xu hướng tập trung (Central Tendency)\n",
    "\n"
   ]
  },
  {
   "cell_type": "markdown",
   "metadata": {},
   "source": [
    " Để đo lường xu hướng tập trung của dữ liệu người ta thường dùng 3 tham số đó là số trung bình (trung bình số học - Arithmetic mean hay average), số trung vị (median) và số mode.\n"
   ]
  },
  {
   "cell_type": "code",
   "execution_count": 1,
   "metadata": {
    "collapsed": true
   },
   "outputs": [],
   "source": [
    "import numpy as np"
   ]
  },
  {
   "cell_type": "markdown",
   "metadata": {},
   "source": [
    "Here are the two formulas, explained at Standard Deviation Formulas if you want to know more:\n",
    "\n",
    "<br><br><center><h1 style=\"font-size:2em;color:#2467C0\">Standard Deviation Formulas</h1></center>\n",
    "<br>\n",
    "<td><img src=\"Standard_Deviation.PNG\" align=\"middle\" style=\"width:700px;height:380;\"/></td>"
   ]
  },
  {
   "cell_type": "markdown",
   "metadata": {},
   "source": [
    "<strong> Note</strong> In statistics, some statistical measures are calculated slightly differently depending on whether you have data for an entire population or just a sample. To keep things simple, we’ll stick with the calculation methods for a population in this chapter."
   ]
  },
  {
   "cell_type": "markdown",
   "metadata": {},
   "source": [
    "## Finding the Mean"
   ]
  },
  {
   "cell_type": "code",
   "execution_count": 6,
   "metadata": {
    "collapsed": false
   },
   "outputs": [
    {
     "name": "stdout",
     "output_type": "stream",
     "text": [
      "477.75\n"
     ]
    }
   ],
   "source": [
    "def calculate_mean(n):\n",
    "    s=sum(n)  # cac tinh nang cua list \n",
    "    N=len(n)\n",
    "    mean = s/N\n",
    "    return mean\n",
    "\n",
    "if __name__=='__main__':\n",
    "    donations = [100, 60, 70, 900, 100, 200, 500, 500, 503, 600, 1000, 1200]\n",
    "    mean=calculate_mean(donations)\n",
    "    print(mean)\n"
   ]
  },
  {
   "cell_type": "markdown",
   "metadata": {},
   "source": [
    "## Finding the Median"
   ]
  },
  {
   "cell_type": "markdown",
   "metadata": {},
   "source": [
    "<br><br><center><h1 style=\"font-size:2em;color:#2467C0\">MEDIAN</h1></center>\n",
    "<br>\n",
    "<td><img src=\"median.PNG\" align=\"middle\" style=\"width:700px;height:380;\"/></td>"
   ]
  },
  {
   "cell_type": "code",
   "execution_count": 7,
   "metadata": {
    "collapsed": false
   },
   "outputs": [
    {
     "name": "stdout",
     "output_type": "stream",
     "text": [
      "The median of N([60, 70, 100, 100, 200, 500, 500, 503, 600, 900, 1000, 1200]) with length[N=12] is: 500.0\n"
     ]
    }
   ],
   "source": [
    "def finding_median(n):\n",
    "    n=sorted(n)\n",
    "    N=len(n)\n",
    "    if N<=0:\n",
    "        print(\"dont accept negative number\")\n",
    "    elif N%2!=0:\n",
    "        result=n[int(N/2)]\n",
    "    elif N%2==0:\n",
    "        result=float(n[int(N/2)]+n[int(N/2-1)])/2\n",
    "    return result\n",
    "if __name__=='__main__':\n",
    "    kk= [100, 60, 70, 900, 100, 200, 500, 500, 503, 600, 1000, 1200]\n",
    "    print(\"The median of N({}) with length[N={}] is: {}\".format(sorted(kk),len(kk),finding_median(kk)))"
   ]
  },
  {
   "cell_type": "code",
   "execution_count": 8,
   "metadata": {
    "collapsed": false
   },
   "outputs": [
    {
     "name": "stdout",
     "output_type": "stream",
     "text": [
      "<class 'int'> 6\n",
      "500 200\n",
      "[60, 70, 100, 100, 200, 500, 500, 503, 600, 900, 1000, 1200]\n"
     ]
    }
   ],
   "source": [
    "kk= [100, 60, 70, 900, 100, 200, 500, 500, 503, 600, 1000, 1200]\n",
    "N=len(kk)\n",
    "print(type(N),int(N/2))\n",
    "kk[0]\n",
    "print(kk[int(N/2)],kk[int((N/2)-1)])\n",
    "NNN=sorted(kk)\n",
    "print(NNN)"
   ]
  },
  {
   "cell_type": "markdown",
   "metadata": {},
   "source": [
    "## Finding the Mode and creating a frequency table"
   ]
  },
  {
   "cell_type": "markdown",
   "metadata": {},
   "source": [
    "<strong>Mode</strong>:  Instead of fnding the mean value or the median value of a set of numbers, what if you wanted to fnd the number that occurs most frequently? This number is called the mode."
   ]
  },
  {
   "cell_type": "code",
   "execution_count": 2,
   "metadata": {
    "collapsed": false
   },
   "outputs": [],
   "source": [
    "#from collections import Counter  #ko can dung ts"
   ]
  },
  {
   "cell_type": "code",
   "execution_count": 5,
   "metadata": {
    "collapsed": false
   },
   "outputs": [
    {
     "name": "stdout",
     "output_type": "stream",
     "text": [
      " key=   [7, 8, 9, 2, 10, 4, 5, 6, 1] \n",
      " value= [2, 2, 5, 1, 2, 1, 2, 3, 2]\n",
      "The number occurs most frequently is 9 with 5 times\n"
     ]
    }
   ],
   "source": [
    "def max_position(n):\n",
    "    temp=0\n",
    "    for i in n:\n",
    "        if temp<i:\n",
    "            temp=i\n",
    "    pos=n.index(temp)\n",
    "    return pos\n",
    "def seperate_appending(n):\n",
    "    key_Arr1=[]\n",
    "    value_Arr1=[]\n",
    "    for key,value in cnt.items():\n",
    "        key_Arr1.append(key)\n",
    "        value_Arr1.append(value)\n",
    "    return (key_Arr1,value_Arr1)    #  Multiple return values\n",
    "if __name__=='__main__':\n",
    "    #find_mode=[25.1, 21.2, 17.9, 23.0, 24.6, 19.5 ]\n",
    "    find_mode=[7, 8, 9, 2, 10, 9, 9, 9, 9, 4, 5, 6, 1, 5, 6, 7, 8, 6, 1, 10]\n",
    "#     cnt=Counter()  #ko can dung ts\n",
    "#     for i in find_mode:\n",
    "#         cnt[i]+=1\n",
    "    call_seperateFunc=seperate_appending(find_mode) #  CAll Multiple return values\n",
    "    key_Arr=call_seperateFunc[0]  #  CAll Multiple return values\n",
    "    value_Arr=call_seperateFunc[1] #  CAll Multiple return values\n",
    "    result= value_Arr[max_position(value_Arr)]\n",
    "    if (result ==1):\n",
    "        result=\"Not Available\"\n",
    "    print(\" key=   {} \\n value= {}\".format(key_Arr,value_Arr))\n",
    "    print(\"The number occurs most frequently is {} with {} times\".format(key_Arr[max_position(value_Arr)],result\n",
    "                                                                         ))"
   ]
  },
  {
   "cell_type": "markdown",
   "metadata": {},
   "source": [
    "#### Multiple return values"
   ]
  },
  {
   "cell_type": "code",
   "execution_count": 16,
   "metadata": {
    "collapsed": false
   },
   "outputs": [
    {
     "name": "stdout",
     "output_type": "stream",
     "text": [
      "Danny\n",
      "30\n"
     ]
    }
   ],
   "source": [
    "def profile():\n",
    "    name = \"Danny\"\n",
    "    age = 30\n",
    "    return (name, age)\n",
    "profile_data = profile()\n",
    "print(profile_data[0])\n",
    "# Output: Danny\n",
    "print(profile_data[1])\n",
    "# Output: 30"
   ]
  },
  {
   "cell_type": "markdown",
   "metadata": {},
   "source": [
    "#### Global & Return"
   ]
  },
  {
   "cell_type": "code",
   "execution_count": 17,
   "metadata": {
    "collapsed": false
   },
   "outputs": [
    {
     "name": "stdout",
     "output_type": "stream",
     "text": [
      "8\n"
     ]
    }
   ],
   "source": [
    "def add(value1,value2):\n",
    "    global result\n",
    "    result = value1 + value2\n",
    "add(3,5)\n",
    "print(result)\n",
    "# Output: 8"
   ]
  },
  {
   "cell_type": "markdown",
   "metadata": {
    "collapsed": true
   },
   "source": [
    "### So sánh giữa Mean, Median và Mode \n",
    "Trong 3 tham số Mean, Mode và Median thì Median có khả năng đo lường xu hướng tập trung của dữ liệu mạnh nhất."
   ]
  },
  {
   "cell_type": "markdown",
   "metadata": {
    "collapsed": true
   },
   "source": [
    "### Trở lại ví dụ \n",
    "\n",
    "chạy 100 m trên, giả sử sau khi chạy hết 6 lần, bạn chạy tiếp lần thứ 7. Lần này đột nhiên chân bạn bị đau và bạn đi bộ thay vì chạy và kết quả thời gian của lần này là 79.9 giây. Bạn cố gắng thử thêm lần nữa và kết quả vẫn 79.9 giây. Bây giờ ta có Sample về 8 lần chạy như sau:"
   ]
  },
  {
   "cell_type": "markdown",
   "metadata": {
    "collapsed": true
   },
   "source": [
    "### <center>x={25.1, 21.2, 17.9, 23.0, 24.6, 19.5, 79.9, 79.9} </center>\n"
   ]
  },
  {
   "cell_type": "markdown",
   "metadata": {
    "collapsed": true
   },
   "source": [
    "<br><br><center><h1 style=\"font-size:2em;color:#2467C0\">Các giá trị Mean, Median và Mode so sánh giữa 2 Sample như sau:</h1></center>\n",
    "<br>\n",
    "<td><img src=\"ss.PNG\" align=\"middle\" style=\"width:500px;height:180;\"/></td>\n",
    "<td>"
   ]
  },
  {
   "cell_type": "markdown",
   "metadata": {
    "collapsed": true
   },
   "source": [
    "Nếu bạn quan sát cẩn thận, đối với 6 lần chạy đầu tiên thì thời gian chính gian chạy còn 2 lần sau có sự khác biệt rất lớn so với 6 lần chạy ban đầu (2 giá trị này được xem là bất thường của dữ liệu – outlier) thực chất nó không phải thời gian chạy mà là thời gian đi bộ. Nếu bạn không bị đau thì thời gian chạy dao động quanh Median.  Theo bảng trên ta thấy rằng 2 Outliers không ảnh hưởng nhiều đến Median (từ 22.1 lên 23.8) nhưng ảnh hưởng rất lớn đến Mean (từ 21.9 lên 36.4) và Mode. Mặc dù Median có khả năng đo lường xu hướng tập trung của dữ liệu mạnh hơn Mean vì Median không bị ảnh hưởng bởi các Outliers nhưng nhiều người vẫn thích sử dụng Mean  để đo lường xu hướng tập trung của dữ liệu vì dễ tính hơn không cần phải sắp xếp dữ liệu như Median.\n"
   ]
  },
  {
   "cell_type": "markdown",
   "metadata": {
    "collapsed": true
   },
   "source": [
    "<strong>Mode</strong> rất hữu ích đối với dữ liệu có kiểu dữ liệu phân loại (nominal). Đối với các dữ liệu có kiểu phân loại ta không thể dùng Mean hay Median vì nó không có ý nghĩa gì mà phải dùng Mode. Ví dụ nếu dữ liệu mô tả giới tính là nominal và 1 là nam, 0 là nữ thì Mean hay Median là 0.5 không có ý nghĩa gì. Trong khi đó Mode cho biết tần suất nam hay nữ xuất hiện nhiều nhất.\n",
    "\n"
   ]
  },
  {
   "cell_type": "code",
   "execution_count": null,
   "metadata": {
    "collapsed": true
   },
   "outputs": [],
   "source": []
  },
  {
   "cell_type": "code",
   "execution_count": null,
   "metadata": {
    "collapsed": true
   },
   "outputs": [],
   "source": []
  },
  {
   "cell_type": "code",
   "execution_count": null,
   "metadata": {
    "collapsed": true
   },
   "outputs": [],
   "source": []
  }
 ],
 "metadata": {
  "kernelspec": {
   "display_name": "Python 3",
   "language": "python",
   "name": "python3"
  },
  "language_info": {
   "codemirror_mode": {
    "name": "ipython",
    "version": 3
   },
   "file_extension": ".py",
   "mimetype": "text/x-python",
   "name": "python",
   "nbconvert_exporter": "python",
   "pygments_lexer": "ipython3",
   "version": "3.6.0"
  }
 },
 "nbformat": 4,
 "nbformat_minor": 2
}
